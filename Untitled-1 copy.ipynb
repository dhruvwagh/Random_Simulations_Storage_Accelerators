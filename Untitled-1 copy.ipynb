{
 "cells": [
  {
   "cell_type": "code",
   "execution_count": 1,
   "metadata": {},
   "outputs": [],
   "source": [
    "import random\n",
    "import string\n",
    "import hashlib\n",
    "import matplotlib.pyplot as plt\n",
    "import time\n",
    "\n",
    "start_time = time.time()\n",
    "\n",
    "# Function to generate a random string of given length\n",
    "def generate_random_string(length):\n",
    "    letters = string.ascii_letters\n",
    "    return ''.join(random.choice(letters) for _ in range(length))"
   ]
  },
  {
   "cell_type": "code",
   "execution_count": 2,
   "metadata": {},
   "outputs": [],
   "source": [
    "class SeqBuff:\n",
    "    def __init__(self):\n",
    "        self.entries = []\n",
    "\n",
    "    def append(self, hashed_key, value):\n",
    "        self.entries.append((hashed_key, value))\n",
    "\n",
    "    def search(self, hashed_key):\n",
    "        for index, entry in enumerate(reversed(self.entries)):\n",
    "            if entry[0] == hashed_key:\n",
    "                return entry[1], len(self.entries) - index - 1  # Return value and index from end\n",
    "        return None, None"
   ]
  },
  {
   "cell_type": "code",
   "execution_count": 3,
   "metadata": {},
   "outputs": [],
   "source": [
    "Welcome_Buff = {}\n",
    "\n",
    "# Generating random key-value insertions in Welcome_Buff\n",
    "num_insertions_welcome = 100000  # Number of insertions in Welcome_Buff\n",
    "key_length = 10  # Length of the keys\n",
    "value_length = 20  # Length of the values\n",
    "\n",
    "for index in range(num_insertions_welcome):\n",
    "    key = generate_random_string(key_length)\n",
    "    value = generate_random_string(value_length)\n",
    "    hashed_key = hashlib.sha256(key.encode()).hexdigest()  # Hash the key\n",
    "    Welcome_Buff[key] = value  # Adding to the Welcome_Buff with original key\n"
   ]
  },
  {
   "cell_type": "code",
   "execution_count": 4,
   "metadata": {},
   "outputs": [],
   "source": [
    "num_pairs = 10\n",
    "\n",
    "# Creating lists to store pairs of hash_buffs and seq_buffs\n",
    "hash_buffs_list = []\n",
    "seq_buffs_list = []\n",
    "\n",
    "# Transfer data from Welcome_Buff to SeqBuff and Hash_Buff for each pair\n",
    "for _ in range(num_pairs):\n",
    "    seq_buff = SeqBuff()\n",
    "    hash_buff = {}\n",
    "    for key, value in Welcome_Buff.items():\n",
    "        hashed_key = hashlib.sha256(key.encode()).hexdigest()  # Hash the key\n",
    "        seq_buff.append(hashed_key, value)  # Adding to the SeqBuff with hashed key\n",
    "        prefix = hashed_key[:3]\n",
    "        if prefix in hash_buff:\n",
    "            hash_buff[prefix].append((hashed_key, seq_buff.search(hashed_key)[1]))  # Append (hashed_key, index)\n",
    "        else:\n",
    "            hash_buff[prefix] = [(hashed_key, seq_buff.search(hashed_key)[1])]  # Create new entry with (hashed_key, index)\n",
    "        if len(hash_buff[prefix]) >= 2000:  # If hash_buff for this prefix is filled, move to the next pair\n",
    "            break\n",
    "    hash_buffs_list.append(hash_buff)\n",
    "    seq_buffs_list.append(seq_buff)\n"
   ]
  },
  {
   "cell_type": "code",
   "execution_count": 5,
   "metadata": {},
   "outputs": [
    {
     "name": "stdout",
     "output_type": "stream",
     "text": [
      "Sorted Entries in sorted_buff:\n",
      "('0003c527f5f69872a774cbcc201704b592e56f1d670eca493b1481bd80186ca3', 'OKLTJzzFBubRmAWosnUH')\n",
      "('0009add8b8ce028050b6ca9f79ffc135d3e0891d778b9dfcec5d2825989c3541', 'yxHgoManfMWKFenubepw')\n",
      "('0006158e92017268d9b103c760c8e45f4187642ed858a297005998bd6849bdb3', 'oxIEQXsvEBGNbQTKjQyv')\n",
      "('0001ca61dbb6cfbc24e8a891112590dd276be173655c0af8e61f079694fa4e63', 'ZeIjYgBsTzLlXKKVHJHi')\n",
      "('00059a6e80dd9c7c38bdd6b1c88414d64bceeb58af80cc47785bb036e9a4c0b4', 'dBDvVbmAIwikaBohihzy')\n",
      "('0008bff23ddd6fd6069d292fe159b8602b87c5b01833214624d2ef1f5ec1043e', 'HvJXoExGWnmuwAEjociL')\n",
      "('000b7559b52d77e8de8689a42d181e8dc7118c750e5f06d988ca7cb5b784e415', 'cjvxgCDNPZXqBuZlacjj')\n",
      "('000935a35ae94a2343b4e6580cdcfbe7caf6998404f268f2202228f584224c3a', 'oQxObDRVnxLJyPHJipVg')\n",
      "('000c62e37602dca9447f3ec36277175ecbb74e0968c33dc945e95457e19c7435', 'HXbVdarZKUjrNHXrXBfb')\n",
      "('00062d6291257ef3de1edfa682337db69482282bed5e4ad768feb47c7a4ae351', 'UGAjSUFhLcrXSUMAPHqL')\n"
     ]
    }
   ],
   "source": [
    "sorted_buff = []\n",
    "for hash_buff, seq_buff in zip(hash_buffs_list, seq_buffs_list):\n",
    "    for prefix in sorted(hash_buff.keys()):\n",
    "        for hashed_key, index in hash_buff[prefix]:\n",
    "            sorted_buff.append((hashed_key, seq_buff.entries[index][1]))  # Append (hashed_key, value)\n",
    "\n",
    "# Print the first few entries in sorted_buff for demonstration\n",
    "print(\"Sorted Entries in sorted_buff:\")\n",
    "for entry in sorted_buff[:10]:\n",
    "    print(entry)\n"
   ]
  },
  {
   "cell_type": "code",
   "execution_count": 6,
   "metadata": {},
   "outputs": [],
   "source": [
    "import matplotlib.pyplot as plt\n"
   ]
  },
  {
   "cell_type": "code",
   "execution_count": 7,
   "metadata": {},
   "outputs": [
    {
     "name": "stdout",
     "output_type": "stream",
     "text": [
      "Number of Elements in Each Bucket:\n",
      "Bucket 0: 15760 elements\n",
      "Bucket 1: 16030 elements\n",
      "Bucket 2: 16120 elements\n",
      "Bucket 3: 15700 elements\n",
      "Bucket 4: 15720 elements\n",
      "Bucket 5: 15950 elements\n",
      "Bucket 6: 14760 elements\n",
      "Bucket 7: 15340 elements\n",
      "Bucket 8: 16100 elements\n",
      "Bucket 9: 16380 elements\n",
      "Bucket 10: 16210 elements\n",
      "Bucket 11: 15200 elements\n",
      "Bucket 12: 15560 elements\n",
      "Bucket 13: 14840 elements\n",
      "Bucket 14: 15110 elements\n",
      "Bucket 15: 15950 elements\n",
      "Bucket 16: 16080 elements\n",
      "Bucket 17: 15710 elements\n",
      "Bucket 18: 16080 elements\n",
      "Bucket 19: 15400 elements\n",
      "Bucket 20: 15370 elements\n",
      "Bucket 21: 15510 elements\n",
      "Bucket 22: 16090 elements\n",
      "Bucket 23: 15540 elements\n",
      "Bucket 24: 15660 elements\n",
      "Bucket 25: 15900 elements\n",
      "Bucket 26: 15820 elements\n",
      "Bucket 27: 15060 elements\n",
      "Bucket 28: 16210 elements\n",
      "Bucket 29: 15210 elements\n",
      "Bucket 30: 14820 elements\n",
      "Bucket 31: 15400 elements\n",
      "Bucket 32: 15760 elements\n",
      "Bucket 33: 15080 elements\n",
      "Bucket 34: 15720 elements\n",
      "Bucket 35: 15410 elements\n",
      "Bucket 36: 16160 elements\n",
      "Bucket 37: 15780 elements\n",
      "Bucket 38: 15360 elements\n",
      "Bucket 39: 15920 elements\n",
      "Bucket 40: 15910 elements\n",
      "Bucket 41: 15820 elements\n",
      "Bucket 42: 15810 elements\n",
      "Bucket 43: 15230 elements\n",
      "Bucket 44: 15080 elements\n",
      "Bucket 45: 16460 elements\n",
      "Bucket 46: 16180 elements\n",
      "Bucket 47: 15550 elements\n",
      "Bucket 48: 15900 elements\n",
      "Bucket 49: 16140 elements\n",
      "Bucket 50: 15070 elements\n",
      "Bucket 51: 15870 elements\n",
      "Bucket 52: 15450 elements\n",
      "Bucket 53: 16420 elements\n",
      "Bucket 54: 15210 elements\n",
      "Bucket 55: 15930 elements\n",
      "Bucket 56: 15820 elements\n",
      "Bucket 57: 15400 elements\n",
      "Bucket 58: 14620 elements\n",
      "Bucket 59: 15430 elements\n",
      "Bucket 60: 14510 elements\n",
      "Bucket 61: 15140 elements\n",
      "Bucket 62: 15110 elements\n",
      "Bucket 63: 16160 elements\n"
     ]
    },
    {
     "data": {
      "image/png": "[encoded data removed]",
      "text/plain": [
       "<Figure size 640x480 with 1 Axes>"
      ]
     },
     "metadata": {},
     "output_type": "display_data"
    }
   ],
   "source": [
    "sorted_buff = []\n",
    "buckets = [0] * 64  # Initialize a list to store the number of elements in each bucket\n",
    "\n",
    "for hash_buff, seq_buff in zip(hash_buffs_list, seq_buffs_list):\n",
    "    for prefix in sorted(hash_buff.keys()):\n",
    "        for hashed_key, index in hash_buff[prefix]:\n",
    "            sorted_buff.append((hashed_key, seq_buff.entries[index][1]))  # Append (hashed_key, value)\n",
    "            bucket_index = int(hashed_key, 16) % 64  # Convert the first 6 bits of hashed_key to an integer between 0 and 63\n",
    "            buckets[bucket_index] += 1  # Increment the count of elements in the corresponding bucket\n",
    "\n",
    "# Print the number of elements in each bucket for demonstration\n",
    "print(\"Number of Elements in Each Bucket:\")\n",
    "for i, count in enumerate(buckets):\n",
    "    print(f\"Bucket {i}: {count} elements\")\n",
    "\n",
    "# Plotting the number of elements in each bucket\n",
    "plt.bar(range(64), buckets)\n",
    "plt.xlabel(\"Bucket Index\")\n",
    "plt.ylabel(\"Number of Elements\")\n",
    "plt.title(\"Number of Elements in Each Bucket\")\n",
    "plt.show()"
   ]
  },
  {
   "cell_type": "code",
   "execution_count": 8,
   "metadata": {},
   "outputs": [
    {
     "name": "stdout",
     "output_type": "stream",
     "text": [
      "Throughput: 18333.22 key-value pairs per second\n"
     ]
    }
   ],
   "source": [
    "end_time = time.time()\n",
    "time_taken = end_time - start_time\n",
    "\n",
    "# Calculate the throughput (key-value pairs per second)\n",
    "total_key_value_pairs = num_insertions_welcome\n",
    "throughput = total_key_value_pairs / time_taken\n",
    "\n",
    "# Print the throughput\n",
    "print(f\"Throughput: {throughput:.2f} key-value pairs per second\")"
   ]
  },
  {
   "cell_type": "code",
   "execution_count": 9,
   "metadata": {},
   "outputs": [
    {
     "data": {
      "image/png": "[encoded data removed]",
      "text/plain": [
       "<Figure size 640x480 with 1 Axes>"
      ]
     },
     "metadata": {},
     "output_type": "display_data"
    }
   ],
   "source": [
    "bucket_sizes = {}\n",
    "for count in buckets:\n",
    "    if count in bucket_sizes:\n",
    "        bucket_sizes[count] += 1\n",
    "    else:\n",
    "        bucket_sizes[count] = 1\n",
    "\n",
    "# Rearrange the buckets based on their sizes (sort by the number of elements in the bucket)\n",
    "sorted_bucket_sizes = sorted(bucket_sizes.items(), key=lambda x: x[0])\n",
    "\n",
    "# Get the sizes and counts of the buckets after rearranging\n",
    "sorted_sizes = [size for size, count in sorted_bucket_sizes]\n",
    "sorted_counts = [count for size, count in sorted_bucket_sizes]\n",
    "\n",
    "# Plot the bar chart of the number of buckets based on their sizes\n",
    "plt.bar(sorted_sizes, sorted_counts)\n",
    "plt.xlabel(\"Bucket Size\")\n",
    "plt.ylabel(\"Number of Buckets\")\n",
    "plt.title(\"Number of Buckets Based on Their Sizes\")\n",
    "plt.show()"
   ]
  }
 ],
 "metadata": {
  "kernelspec": {
   "display_name": "base",
   "language": "python",
   "name": "python3"
  },
  "language_info": {
   "codemirror_mode": {
    "name": "ipython",
    "version": 3
   },
   "file_extension": ".py",
   "mimetype": "text/x-python",
   "name": "python",
   "nbconvert_exporter": "python",
   "pygments_lexer": "ipython3",
   "version": "3.9.16"
  },
  "orig_nbformat": 4,
  "vscode": {
   "interpreter": {
    "hash": "33471af0c63958b73f7055a4c458226a09daf3b1a2cf4ce8117c1e2a037d3afd"
   }
  }
 },
 "nbformat": 4,
 "nbformat_minor": 2
}
