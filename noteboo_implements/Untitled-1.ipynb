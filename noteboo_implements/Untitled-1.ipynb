{
 "cells": [
  {
   "cell_type": "code",
   "execution_count": 21,
   "metadata": {},
   "outputs": [],
   "source": [
    "import random\n",
    "import string\n",
    "import hashlib\n",
    "import matplotlib.pyplot as plt\n",
    "import time\n",
    "\n",
    "start_time = time.time()\n",
    "\n",
    "# Function to generate a random string of given length\n",
    "def generate_random_string(length):\n",
    "    letters = string.ascii_letters\n",
    "    return ''.join(random.choice(letters) for _ in range(length))"
   ]
  },
  {
   "cell_type": "code",
   "execution_count": 22,
   "metadata": {},
   "outputs": [],
   "source": [
    "class SeqBuff:\n",
    "    def __init__(self):\n",
    "        self.entries = []\n",
    "\n",
    "    def append(self, hashed_key, value):\n",
    "        self.entries.append((hashed_key, value))\n",
    "\n",
    "    def search(self, hashed_key):\n",
    "        for index, entry in enumerate(reversed(self.entries)):\n",
    "            if entry[0] == hashed_key:\n",
    "                return entry[1], len(self.entries) - index - 1  # Return value and index from end\n",
    "        return None, None"
   ]
  },
  {
   "cell_type": "code",
   "execution_count": 23,
   "metadata": {},
   "outputs": [],
   "source": [
    "Welcome_Buff = {}\n",
    "\n",
    "# Generating random key-value insertions in Welcome_Buff\n",
    "num_insertions_welcome = 100000  # Number of insertions in Welcome_Buff\n",
    "key_length = 10  # Length of the keys\n",
    "value_length = 20  # Length of the values\n",
    "\n",
    "for index in range(num_insertions_welcome):\n",
    "    key = generate_random_string(key_length)\n",
    "    value = generate_random_string(value_length)\n",
    "    hashed_key = hashlib.sha256(key.encode()).hexdigest()  # Hash the key\n",
    "    Welcome_Buff[key] = value  # Adding to the Welcome_Buff with original key\n"
   ]
  },
  {
   "cell_type": "code",
   "execution_count": 24,
   "metadata": {},
   "outputs": [],
   "source": [
    "num_pairs = 10\n",
    "\n",
    "# Creating lists to store pairs of hash_buffs and seq_buffs\n",
    "hash_buffs_list = []\n",
    "seq_buffs_list = []\n",
    "\n",
    "# Transfer data from Welcome_Buff to SeqBuff and Hash_Buff for each pair\n",
    "for _ in range(num_pairs):\n",
    "    seq_buff = SeqBuff()\n",
    "    hash_buff = {}\n",
    "    for key, value in Welcome_Buff.items():\n",
    "        hashed_key = hashlib.sha256(key.encode()).hexdigest()  # Hash the key\n",
    "        seq_buff.append(hashed_key, value)  # Adding to the SeqBuff with hashed key\n",
    "        prefix = hashed_key[:3]\n",
    "        if prefix in hash_buff:\n",
    "            hash_buff[prefix].append((hashed_key, seq_buff.search(hashed_key)[1]))  # Append (hashed_key, index)\n",
    "        else:\n",
    "            hash_buff[prefix] = [(hashed_key, seq_buff.search(hashed_key)[1])]  # Create new entry with (hashed_key, index)\n",
    "        if len(hash_buff[prefix]) >= 2000:  # If hash_buff for this prefix is filled, move to the next pair\n",
    "            break\n",
    "    hash_buffs_list.append(hash_buff)\n",
    "    seq_buffs_list.append(seq_buff)\n"
   ]
  },
  {
   "cell_type": "code",
   "execution_count": 25,
   "metadata": {},
   "outputs": [
    {
     "name": "stdout",
     "output_type": "stream",
     "text": [
      "Sorted Entries in sorted_buff:\n",
      "('000c4b576991bc216425aac0e72a018a559159413feee8bd1292ead2bee7ec5d', 'LoxpQpXWCESXrriRbgOg')\n",
      "('0008ba8be2e4f3453a33689b748d5668053cb56e7084486a5605aff2c353b044', 'jYZXIsBrjCpsBkZpYKMh')\n",
      "('0001fbd677c7fc3ab0f0f3ee9b4b270637cd16d34999793a144fc75240c43e87', 'mxuqWNCxAgMvjRgbDVqD')\n",
      "('000193dc09863ea4c6180541f994140d9e5741310e5b1ec76bc87fa11bba0e4b', 'gNesDOXVzBqaNgDWJIFr')\n",
      "('00068112990e601c43b6c86b9bbb3b674b82ea7632897aad04cac4cb9f3768c0', 'TVpySMJNblJOEIuulTrp')\n",
      "('000a71b3463d041b4bd1bd1d0f1dee4e054160910f2682caccd1deef528cfc90', 'PCwVFIHUoHlUPtPQBGhb')\n",
      "('000da03cc2fcbbbbb2bffa230d10e2226ac1c26db839b34bf8a4a27b85eeacf6', 'QrpvSRpHOCjoDfklLyqe')\n",
      "('000052d6eae751ad8259f5efab4f81cf689972648d2a0eba3313f465d5d8ac8b', 'pDIVWzwbrrQcLBnWqDyh')\n",
      "('00056c8c9dba6c99dd844dc6065b53a5d3af02751399c6632b3354042a2d99ed', 'PDsEosMFqxbIROVJfYxY')\n",
      "('000219007fd53d51a0cc9172639703cb7fcec1c87562d6c58a786733e2d9b47a', 'bHvLnynEgpzVDUGibizi')\n"
     ]
    }
   ],
   "source": [
    "sorted_buff = []\n",
    "for hash_buff, seq_buff in zip(hash_buffs_list, seq_buffs_list):\n",
    "    for prefix in sorted(hash_buff.keys()):\n",
    "        for hashed_key, index in hash_buff[prefix]:\n",
    "            sorted_buff.append((hashed_key, seq_buff.entries[index][1]))  # Append (hashed_key, value)\n",
    "\n",
    "# Print the first few entries in sorted_buff for demonstration\n",
    "print(\"Sorted Entries in sorted_buff:\")\n",
    "for entry in sorted_buff[:10]:\n",
    "    print(entry)\n"
   ]
  },
  {
   "cell_type": "code",
   "execution_count": 26,
   "metadata": {},
   "outputs": [],
   "source": [
    "import matplotlib.pyplot as plt\n"
   ]
  },
  {
   "cell_type": "code",
   "execution_count": 27,
   "metadata": {},
   "outputs": [
    {
     "name": "stdout",
     "output_type": "stream",
     "text": [
      "Number of Elements in Each Bucket:\n",
      "Bucket 0: 15280 elements\n",
      "Bucket 1: 15520 elements\n",
      "Bucket 2: 15970 elements\n",
      "Bucket 3: 16570 elements\n",
      "Bucket 4: 15910 elements\n",
      "Bucket 5: 15550 elements\n",
      "Bucket 6: 15950 elements\n",
      "Bucket 7: 15290 elements\n",
      "Bucket 8: 16110 elements\n",
      "Bucket 9: 15280 elements\n",
      "Bucket 10: 15500 elements\n",
      "Bucket 11: 15430 elements\n",
      "Bucket 12: 15640 elements\n",
      "Bucket 13: 15490 elements\n",
      "Bucket 14: 15650 elements\n",
      "Bucket 15: 16030 elements\n",
      "Bucket 16: 15090 elements\n",
      "Bucket 17: 15750 elements\n",
      "Bucket 18: 15810 elements\n",
      "Bucket 19: 15490 elements\n",
      "Bucket 20: 15110 elements\n",
      "Bucket 21: 15410 elements\n",
      "Bucket 22: 16180 elements\n",
      "Bucket 23: 16030 elements\n",
      "Bucket 24: 15370 elements\n",
      "Bucket 25: 15870 elements\n",
      "Bucket 26: 16120 elements\n",
      "Bucket 27: 15250 elements\n",
      "Bucket 28: 15560 elements\n",
      "Bucket 29: 15520 elements\n",
      "Bucket 30: 15220 elements\n",
      "Bucket 31: 16030 elements\n",
      "Bucket 32: 15470 elements\n",
      "Bucket 33: 14940 elements\n",
      "Bucket 34: 15190 elements\n",
      "Bucket 35: 15300 elements\n",
      "Bucket 36: 15370 elements\n",
      "Bucket 37: 16350 elements\n",
      "Bucket 38: 15140 elements\n",
      "Bucket 39: 15900 elements\n",
      "Bucket 40: 15670 elements\n",
      "Bucket 41: 15490 elements\n",
      "Bucket 42: 15270 elements\n",
      "Bucket 43: 15360 elements\n",
      "Bucket 44: 15340 elements\n",
      "Bucket 45: 15210 elements\n",
      "Bucket 46: 15190 elements\n",
      "Bucket 47: 15610 elements\n",
      "Bucket 48: 15590 elements\n",
      "Bucket 49: 16000 elements\n",
      "Bucket 50: 15670 elements\n",
      "Bucket 51: 15660 elements\n",
      "Bucket 52: 14850 elements\n",
      "Bucket 53: 15370 elements\n",
      "Bucket 54: 16230 elements\n",
      "Bucket 55: 15780 elements\n",
      "Bucket 56: 16080 elements\n",
      "Bucket 57: 15700 elements\n",
      "Bucket 58: 15780 elements\n",
      "Bucket 59: 15820 elements\n",
      "Bucket 60: 15940 elements\n",
      "Bucket 61: 15480 elements\n",
      "Bucket 62: 15840 elements\n",
      "Bucket 63: 16430 elements\n"
     ]
    },
    {
     "data": {
      "image/png": "[encoded data removed]",
      "text/plain": [
       "<Figure size 640x480 with 1 Axes>"
      ]
     },
     "metadata": {},
     "output_type": "display_data"
    }
   ],
   "source": [
    "sorted_buff = []\n",
    "buckets = [0] * 64  # Initialize a list to store the number of elements in each bucket\n",
    "\n",
    "for hash_buff, seq_buff in zip(hash_buffs_list, seq_buffs_list):\n",
    "    for prefix in sorted(hash_buff.keys()):\n",
    "        for hashed_key, index in hash_buff[prefix]:\n",
    "            sorted_buff.append((hashed_key, seq_buff.entries[index][1]))  # Append (hashed_key, value)\n",
    "            bucket_index = int(hashed_key, 16) % 64  # Convert the first 6 bits of hashed_key to an integer between 0 and 63\n",
    "            buckets[bucket_index] += 1  # Increment the count of elements in the corresponding bucket\n",
    "\n",
    "# Print the number of elements in each bucket for demonstration\n",
    "print(\"Number of Elements in Each Bucket:\")\n",
    "for i, count in enumerate(buckets):\n",
    "    print(f\"Bucket {i}: {count} elements\")\n",
    "\n",
    "# Plotting the number of elements in each bucket\n",
    "plt.bar(range(64), buckets)\n",
    "plt.xlabel(\"Bucket Index\")\n",
    "plt.ylabel(\"Number of Elements\")\n",
    "plt.title(\"Number of Elements in Each Bucket\")\n",
    "plt.show()"
   ]
  },
  {
   "cell_type": "code",
   "execution_count": 28,
   "metadata": {},
   "outputs": [
    {
     "name": "stdout",
     "output_type": "stream",
     "text": [
      "Throughput: 5882.62 key-value pairs per second\n"
     ]
    }
   ],
   "source": [
    "end_time = time.time()\n",
    "time_taken = end_time - start_time\n",
    "\n",
    "# Calculate the throughput (key-value pairs per second)\n",
    "total_key_value_pairs = num_insertions_welcome\n",
    "throughput = total_key_value_pairs / time_taken\n",
    "\n",
    "# Print the throughput\n",
    "print(f\"Throughput: {throughput:.2f} key-value pairs per second\")"
   ]
  },
  {
   "cell_type": "code",
   "execution_count": 29,
   "metadata": {},
   "outputs": [
    {
     "data": {
      "image/png": "[encoded data removed]",
      "text/plain": [
       "<Figure size 640x480 with 1 Axes>"
      ]
     },
     "metadata": {},
     "output_type": "display_data"
    }
   ],
   "source": [
    "bucket_sizes = {}\n",
    "for count in buckets:\n",
    "    if count in bucket_sizes:\n",
    "        bucket_sizes[count] += 1\n",
    "    else:\n",
    "        bucket_sizes[count] = 1\n",
    "\n",
    "# Rearrange the buckets based on their sizes (sort by the number of elements in the bucket)\n",
    "sorted_bucket_sizes = sorted(bucket_sizes.items(), key=lambda x: x[0])\n",
    "\n",
    "# Get the sizes and counts of the buckets after rearranging\n",
    "sorted_sizes = [size for size, count in sorted_bucket_sizes]\n",
    "sorted_counts = [count for size, count in sorted_bucket_sizes]\n",
    "\n",
    "# Plot the bar chart of the number of buckets based on their sizes\n",
    "plt.bar(sorted_sizes, sorted_counts)\n",
    "plt.xlabel(\"Bucket Size\")\n",
    "plt.ylabel(\"Number of Buckets\")\n",
    "plt.title(\"Number of Buckets Based on Their Sizes\")\n",
    "plt.show()"
   ]
  }
 ],
 "metadata": {
  "kernelspec": {
   "display_name": "base",
   "language": "python",
   "name": "python3"
  },
  "language_info": {
   "codemirror_mode": {
    "name": "ipython",
    "version": 3
   },
   "file_extension": ".py",
   "mimetype": "text/x-python",
   "name": "python",
   "nbconvert_exporter": "python",
   "pygments_lexer": "ipython3",
   "version": "3.8.5"
  },
  "orig_nbformat": 4,
  "vscode": {
   "interpreter": {
    "hash": "33471af0c63958b73f7055a4c458226a09daf3b1a2cf4ce8117c1e2a037d3afd"
   }
  }
 },
 "nbformat": 4,
 "nbformat_minor": 2
}
