{
 "cells": [
  {
   "cell_type": "code",
   "execution_count": 22,
   "metadata": {},
   "outputs": [
    {
     "data": {
      "image/png": "[encoded data removed]",
      "text/plain": [
       "<Figure size 640x480 with 1 Axes>"
      ]
     },
     "metadata": {},
     "output_type": "display_data"
    }
   ],
   "source": [
    "import collections\n",
    "import random\n",
    "import string\n",
    "import matplotlib.pyplot as plt\n",
    "from matplotlib.animation import FuncAnimation\n",
    "\n",
    "class KeyValueQueue:\n",
    "    def __init__(self):\n",
    "        self.queue = collections.deque()\n",
    "\n",
    "    def insert(self, key, value):\n",
    "        self.queue.append((key, value))\n",
    "\n",
    "    def extract(self):\n",
    "        if self.queue:\n",
    "            return self.queue.popleft()\n",
    "        else:\n",
    "            return None\n",
    "\n",
    "def generate_random_key():\n",
    "    return random.randint(0, 2**32 - 1)\n",
    "\n",
    "def generate_random_string(length=10):\n",
    "    letters = string.ascii_letters + string.digits\n",
    "    return ''.join(random.choice(letters) for _ in range(length))\n",
    "\n",
    "def generate_random_key_value_pairs(num_pairs):\n",
    "    key_value_pairs = []\n",
    "    for _ in range(num_pairs):\n",
    "        key = generate_random_key()\n",
    "        value = generate_random_string()\n",
    "        key_value_pairs.append((key, value))\n",
    "    return key_value_pairs\n",
    "\n",
    "num_pairs = 20\n",
    "key_value_pairs = generate_random_key_value_pairs(num_pairs)\n",
    "\n",
    "queue = KeyValueQueue()\n",
    "\n",
    "for pair in key_value_pairs:\n",
    "    queue.insert(pair[0], pair[1])\n",
    "\n",
    "bucket_queues = {}\n",
    "index = {}\n",
    "\n",
    "fig, ax = plt.subplots()\n",
    "ax.set_xlim(0, 10)\n",
    "ax.set_ylim(0, 20)\n",
    "bars = ax.bar([], [], align='edge')\n",
    "\n",
    "def animate(frame):\n",
    "    extracted_pair = queue.extract()\n",
    "    if extracted_pair is not None:\n",
    "        original_key = extracted_pair[0]\n",
    "        hashed_key = hash(original_key)\n",
    "        binary_hashed_key = bin(hashed_key & 0xFFFFFFFF)[2:]\n",
    "        bucket_key = binary_hashed_key[:10]\n",
    "        leftover_lsbs = binary_hashed_key[10:]\n",
    "\n",
    "        if bucket_key not in bucket_queues:\n",
    "            bucket_queues[bucket_key] = KeyValueQueue()\n",
    "        \n",
    "        bucket_queues[bucket_key].insert(leftover_lsbs, extracted_pair[1])\n",
    "        index[original_key] = (bucket_key, leftover_lsbs)\n",
    "    \n",
    "    bucket_counts = [len(bucket_queues.get(str(i), [])) for i in range(10)]\n",
    "    for i, bar in enumerate(bars):\n",
    "        bar.set_height(bucket_counts[i])\n",
    "    \n",
    "    return bars\n",
    "\n",
    "anim = FuncAnimation(fig, animate, frames=num_pairs, repeat=False)\n",
    "plt.show()\n"
   ]
  }
 ],
 "metadata": {
  "kernelspec": {
   "display_name": "dw_py",
   "language": "python",
   "name": "python3"
  },
  "language_info": {
   "codemirror_mode": {
    "name": "ipython",
    "version": 3
   },
   "file_extension": ".py",
   "mimetype": "text/x-python",
   "name": "python",
   "nbconvert_exporter": "python",
   "pygments_lexer": "ipython3",
   "version": "3.8.5"
  },
  "orig_nbformat": 4
 },
 "nbformat": 4,
 "nbformat_minor": 2
}
